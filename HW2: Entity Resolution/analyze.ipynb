{
 "metadata": {
  "language_info": {
   "codemirror_mode": {
    "name": "ipython",
    "version": 3
   },
   "file_extension": ".py",
   "mimetype": "text/x-python",
   "name": "python",
   "nbconvert_exporter": "python",
   "pygments_lexer": "ipython3",
   "version": "3.8.2-final"
  },
  "orig_nbformat": 2,
  "kernelspec": {
   "name": "python3",
   "display_name": "Python 3.8.2 64-bit",
   "metadata": {
    "interpreter": {
     "hash": "aee8b7b246df8f9039afb4144a1f6fd8d2ca17a180786b69acc140d282b71a49"
    }
   }
  }
 },
 "nbformat": 4,
 "nbformat_minor": 2,
 "cells": [
  {
   "cell_type": "code",
   "execution_count": 2,
   "metadata": {},
   "outputs": [],
   "source": [
    "import pandas as pd\n",
    "from fuzzywuzzy import fuzz\n",
    "from fuzzywuzzy import process"
   ]
  },
  {
   "cell_type": "code",
   "execution_count": 7,
   "metadata": {},
   "outputs": [],
   "source": [
    "amazon = pd.read_csv('Amazon.csv')"
   ]
  },
  {
   "cell_type": "code",
   "execution_count": 5,
   "metadata": {},
   "outputs": [],
   "source": [
    "tup_list = [(34, 45, 43), (12, 34, 45), (34, 45,65)]\n",
    "for i in tup_list:\n",
    "    if 6 in i:\n",
    "        print(i)"
   ]
  },
  {
   "cell_type": "code",
   "execution_count": 10,
   "metadata": {},
   "outputs": [
    {
     "output_type": "execute_result",
     "data": {
      "text/plain": [
       "id                                                     b000pijt6i\n",
       "title           3d home architect landscape design deluxe vers...\n",
       "description     3d home architect landscape design deluxe vers...\n",
       "manufacturer                                               encore\n",
       "price                                                       29.99\n",
       "Name: 1185, dtype: object"
      ]
     },
     "metadata": {},
     "execution_count": 10
    }
   ],
   "source": [
    "amazon_sorted = amazon.sort_values(by='title')\n",
    "amazon_sorted.iloc[7]\n"
   ]
  },
  {
   "cell_type": "code",
   "execution_count": 11,
   "metadata": {},
   "outputs": [],
   "source": [
    "google_df = pd.read_csv('GoogleProducts.csv')"
   ]
  },
  {
   "cell_type": "code",
   "execution_count": 15,
   "metadata": {},
   "outputs": [],
   "source": [
    "formatted_df = google_df.loc[google_df['price'].str.contains('gbp')]['price'].str.split('gbp', expand=True)\n",
    "formatted_df.drop(formatted_df.columns[1], axis=1, inplace=True)\n",
    "formatted_df.astype(float)\n",
    "\n",
    "for i in range(len(formatted_df.index)):\n",
    "    google_df['price'][formatted_df.index[i]] = formatted_df.iloc[i]"
   ]
  },
  {
   "cell_type": "code",
   "execution_count": 18,
   "metadata": {},
   "outputs": [
    {
     "output_type": "execute_result",
     "data": {
      "text/plain": [
       "                                                     id  \\\n",
       "11    http://www.google.com/base/feeds/snippets/1366...   \n",
       "23    http://www.google.com/base/feeds/snippets/1375...   \n",
       "24    http://www.google.com/base/feeds/snippets/1352...   \n",
       "29    http://www.google.com/base/feeds/snippets/1346...   \n",
       "32    http://www.google.com/base/feeds/snippets/1347...   \n",
       "...                                                 ...   \n",
       "3211  http://www.google.com/base/feeds/snippets/1472...   \n",
       "3216  http://www.google.com/base/feeds/snippets/1482...   \n",
       "3218  http://www.google.com/base/feeds/snippets/1484...   \n",
       "3219  http://www.google.com/base/feeds/snippets/1485...   \n",
       "3221  http://www.google.com/base/feeds/snippets/1487...   \n",
       "\n",
       "                                                   name  \\\n",
       "11                                          ares rising   \n",
       "23    38039440dm adobe flash cs3 professional - ( v....   \n",
       "24    11105106 symantec bindview policy manager - ( ...   \n",
       "29    711-00072 microsoft entertainment pocketpak 20...   \n",
       "32    s71-00009 perfect dark zero - complete package...   \n",
       "...                                                 ...   \n",
       "3211                      mcafee personal firewall plus   \n",
       "3216  findex.com quickverse bible study 2007 mobile ...   \n",
       "3218                           anytime(tm) organizer 11   \n",
       "3219                       pc tools spyware doctor 2007   \n",
       "3221                    jumpstart(r) advanced 1st grade   \n",
       "\n",
       "                                            description manufacturer  price  \n",
       "11    decide the fate of the galaxy! a space combat ...          NaN  29.95  \n",
       "23    adobe systems 38039440dm : usually ships in 24...          NaN  18.88  \n",
       "24    symantec 11105106 : usually ships in 24 hours ...          NaN  16.09  \n",
       "29    microsoft 711-00072 : usually ships in 24 hour...          NaN  29.93  \n",
       "32    microsoft s71-00009 : usually ships in 24 hour...          NaN  34.38  \n",
       "...                                                 ...          ...    ...  \n",
       "3211  protect yourself while online with the advance...          NaN  39.97  \n",
       "3216  quickverse mobile deluxe edition lets you enjo...          NaN  24.99  \n",
       "3218  increase your productivity at home or the offi...          NaN  29.99  \n",
       "3219  pc tools spyware doctor 2007 provides protecti...          NaN  29.99  \n",
       "3221  prepare your child for the 1st grade and beyon...          NaN  19.99  \n",
       "\n",
       "[1066 rows x 5 columns]"
      ],
      "text/html": "<div>\n<style scoped>\n    .dataframe tbody tr th:only-of-type {\n        vertical-align: middle;\n    }\n\n    .dataframe tbody tr th {\n        vertical-align: top;\n    }\n\n    .dataframe thead th {\n        text-align: right;\n    }\n</style>\n<table border=\"1\" class=\"dataframe\">\n  <thead>\n    <tr style=\"text-align: right;\">\n      <th></th>\n      <th>id</th>\n      <th>name</th>\n      <th>description</th>\n      <th>manufacturer</th>\n      <th>price</th>\n    </tr>\n  </thead>\n  <tbody>\n    <tr>\n      <th>11</th>\n      <td>http://www.google.com/base/feeds/snippets/1366...</td>\n      <td>ares rising</td>\n      <td>decide the fate of the galaxy! a space combat ...</td>\n      <td>NaN</td>\n      <td>29.95</td>\n    </tr>\n    <tr>\n      <th>23</th>\n      <td>http://www.google.com/base/feeds/snippets/1375...</td>\n      <td>38039440dm adobe flash cs3 professional - ( v....</td>\n      <td>adobe systems 38039440dm : usually ships in 24...</td>\n      <td>NaN</td>\n      <td>18.88</td>\n    </tr>\n    <tr>\n      <th>24</th>\n      <td>http://www.google.com/base/feeds/snippets/1352...</td>\n      <td>11105106 symantec bindview policy manager - ( ...</td>\n      <td>symantec 11105106 : usually ships in 24 hours ...</td>\n      <td>NaN</td>\n      <td>16.09</td>\n    </tr>\n    <tr>\n      <th>29</th>\n      <td>http://www.google.com/base/feeds/snippets/1346...</td>\n      <td>711-00072 microsoft entertainment pocketpak 20...</td>\n      <td>microsoft 711-00072 : usually ships in 24 hour...</td>\n      <td>NaN</td>\n      <td>29.93</td>\n    </tr>\n    <tr>\n      <th>32</th>\n      <td>http://www.google.com/base/feeds/snippets/1347...</td>\n      <td>s71-00009 perfect dark zero - complete package...</td>\n      <td>microsoft s71-00009 : usually ships in 24 hour...</td>\n      <td>NaN</td>\n      <td>34.38</td>\n    </tr>\n    <tr>\n      <th>...</th>\n      <td>...</td>\n      <td>...</td>\n      <td>...</td>\n      <td>...</td>\n      <td>...</td>\n    </tr>\n    <tr>\n      <th>3211</th>\n      <td>http://www.google.com/base/feeds/snippets/1472...</td>\n      <td>mcafee personal firewall plus</td>\n      <td>protect yourself while online with the advance...</td>\n      <td>NaN</td>\n      <td>39.97</td>\n    </tr>\n    <tr>\n      <th>3216</th>\n      <td>http://www.google.com/base/feeds/snippets/1482...</td>\n      <td>findex.com quickverse bible study 2007 mobile ...</td>\n      <td>quickverse mobile deluxe edition lets you enjo...</td>\n      <td>NaN</td>\n      <td>24.99</td>\n    </tr>\n    <tr>\n      <th>3218</th>\n      <td>http://www.google.com/base/feeds/snippets/1484...</td>\n      <td>anytime(tm) organizer 11</td>\n      <td>increase your productivity at home or the offi...</td>\n      <td>NaN</td>\n      <td>29.99</td>\n    </tr>\n    <tr>\n      <th>3219</th>\n      <td>http://www.google.com/base/feeds/snippets/1485...</td>\n      <td>pc tools spyware doctor 2007</td>\n      <td>pc tools spyware doctor 2007 provides protecti...</td>\n      <td>NaN</td>\n      <td>29.99</td>\n    </tr>\n    <tr>\n      <th>3221</th>\n      <td>http://www.google.com/base/feeds/snippets/1487...</td>\n      <td>jumpstart(r) advanced 1st grade</td>\n      <td>prepare your child for the 1st grade and beyon...</td>\n      <td>NaN</td>\n      <td>19.99</td>\n    </tr>\n  </tbody>\n</table>\n<p>1066 rows × 5 columns</p>\n</div>"
     },
     "metadata": {},
     "execution_count": 18
    }
   ],
   "source": [
    "new_df = google_df.loc[abs(google_df['price'].astype(float) - 29.99) / 29.99 < 0.5]\n",
    "new_df.loc[new_df['manufacturer'].isna()]"
   ]
  },
  {
   "cell_type": "code",
   "execution_count": 20,
   "metadata": {},
   "outputs": [],
   "source": [
    "#A Function to break a string into qgrams (q-character tokens)\n",
    "#we'll pad the string with spaces on the front and end\n",
    "def qgram(str,q):\n",
    "    str = ' ' + str + ' '\n",
    "    return([str[i:i+q] for i in range(len(str)-(q-1))])\n",
    " \n",
    "#compute the jaccard similarity of two strings using qgrams\n",
    "#pass in a value for q to do anything other than bi-grams\n",
    "#call jaccard_simq with verbose set to True to see intermediate values\n",
    " \n",
    "def jaccard_simq(str1, str2,q=2):\n",
    "    set1 = set(qgram(str1,q))\n",
    "    set2 = set(qgram(str2,q))\n",
    "    common_tokens = set1.intersection(set2)\n",
    "    all_tokens = set1.union(set2)\n",
    "    return float(len(common_tokens) / len(all_tokens))"
   ]
  },
  {
   "cell_type": "code",
   "execution_count": 24,
   "metadata": {},
   "outputs": [
    {
     "output_type": "error",
     "ename": "TypeError",
     "evalue": "jaccard_simq() missing 1 required positional argument: 'str2'",
     "traceback": [
      "\u001b[0;31m---------------------------------------------------------------------------\u001b[0m",
      "\u001b[0;31mTypeError\u001b[0m                                 Traceback (most recent call last)",
      "\u001b[0;32m<ipython-input-24-19b30e842b7a>\u001b[0m in \u001b[0;36m<module>\u001b[0;34m\u001b[0m\n\u001b[0;32m----> 1\u001b[0;31m \u001b[0mnew_df\u001b[0m\u001b[0;34m.\u001b[0m\u001b[0mapply\u001b[0m\u001b[0;34m(\u001b[0m\u001b[0mjaccard_simq\u001b[0m\u001b[0;34m)\u001b[0m\u001b[0;34m\u001b[0m\u001b[0;34m\u001b[0m\u001b[0m\n\u001b[0m",
      "\u001b[0;32m/Library/Frameworks/Python.framework/Versions/3.8/lib/python3.8/site-packages/pandas/core/frame.py\u001b[0m in \u001b[0;36mapply\u001b[0;34m(self, func, axis, raw, result_type, args, **kwds)\u001b[0m\n\u001b[1;32m   7766\u001b[0m             \u001b[0mkwds\u001b[0m\u001b[0;34m=\u001b[0m\u001b[0mkwds\u001b[0m\u001b[0;34m,\u001b[0m\u001b[0;34m\u001b[0m\u001b[0;34m\u001b[0m\u001b[0m\n\u001b[1;32m   7767\u001b[0m         )\n\u001b[0;32m-> 7768\u001b[0;31m         \u001b[0;32mreturn\u001b[0m \u001b[0mop\u001b[0m\u001b[0;34m.\u001b[0m\u001b[0mget_result\u001b[0m\u001b[0;34m(\u001b[0m\u001b[0;34m)\u001b[0m\u001b[0;34m\u001b[0m\u001b[0;34m\u001b[0m\u001b[0m\n\u001b[0m\u001b[1;32m   7769\u001b[0m \u001b[0;34m\u001b[0m\u001b[0m\n\u001b[1;32m   7770\u001b[0m     \u001b[0;32mdef\u001b[0m \u001b[0mapplymap\u001b[0m\u001b[0;34m(\u001b[0m\u001b[0mself\u001b[0m\u001b[0;34m,\u001b[0m \u001b[0mfunc\u001b[0m\u001b[0;34m,\u001b[0m \u001b[0mna_action\u001b[0m\u001b[0;34m:\u001b[0m \u001b[0mOptional\u001b[0m\u001b[0;34m[\u001b[0m\u001b[0mstr\u001b[0m\u001b[0;34m]\u001b[0m \u001b[0;34m=\u001b[0m \u001b[0;32mNone\u001b[0m\u001b[0;34m)\u001b[0m \u001b[0;34m->\u001b[0m \u001b[0mDataFrame\u001b[0m\u001b[0;34m:\u001b[0m\u001b[0;34m\u001b[0m\u001b[0;34m\u001b[0m\u001b[0m\n",
      "\u001b[0;32m/Library/Frameworks/Python.framework/Versions/3.8/lib/python3.8/site-packages/pandas/core/apply.py\u001b[0m in \u001b[0;36mget_result\u001b[0;34m(self)\u001b[0m\n\u001b[1;32m    183\u001b[0m             \u001b[0;32mreturn\u001b[0m \u001b[0mself\u001b[0m\u001b[0;34m.\u001b[0m\u001b[0mapply_raw\u001b[0m\u001b[0;34m(\u001b[0m\u001b[0;34m)\u001b[0m\u001b[0;34m\u001b[0m\u001b[0;34m\u001b[0m\u001b[0m\n\u001b[1;32m    184\u001b[0m \u001b[0;34m\u001b[0m\u001b[0m\n\u001b[0;32m--> 185\u001b[0;31m         \u001b[0;32mreturn\u001b[0m \u001b[0mself\u001b[0m\u001b[0;34m.\u001b[0m\u001b[0mapply_standard\u001b[0m\u001b[0;34m(\u001b[0m\u001b[0;34m)\u001b[0m\u001b[0;34m\u001b[0m\u001b[0;34m\u001b[0m\u001b[0m\n\u001b[0m\u001b[1;32m    186\u001b[0m \u001b[0;34m\u001b[0m\u001b[0m\n\u001b[1;32m    187\u001b[0m     \u001b[0;32mdef\u001b[0m \u001b[0mapply_empty_result\u001b[0m\u001b[0;34m(\u001b[0m\u001b[0mself\u001b[0m\u001b[0;34m)\u001b[0m\u001b[0;34m:\u001b[0m\u001b[0;34m\u001b[0m\u001b[0;34m\u001b[0m\u001b[0m\n",
      "\u001b[0;32m/Library/Frameworks/Python.framework/Versions/3.8/lib/python3.8/site-packages/pandas/core/apply.py\u001b[0m in \u001b[0;36mapply_standard\u001b[0;34m(self)\u001b[0m\n\u001b[1;32m    274\u001b[0m \u001b[0;34m\u001b[0m\u001b[0m\n\u001b[1;32m    275\u001b[0m     \u001b[0;32mdef\u001b[0m \u001b[0mapply_standard\u001b[0m\u001b[0;34m(\u001b[0m\u001b[0mself\u001b[0m\u001b[0;34m)\u001b[0m\u001b[0;34m:\u001b[0m\u001b[0;34m\u001b[0m\u001b[0;34m\u001b[0m\u001b[0m\n\u001b[0;32m--> 276\u001b[0;31m         \u001b[0mresults\u001b[0m\u001b[0;34m,\u001b[0m \u001b[0mres_index\u001b[0m \u001b[0;34m=\u001b[0m \u001b[0mself\u001b[0m\u001b[0;34m.\u001b[0m\u001b[0mapply_series_generator\u001b[0m\u001b[0;34m(\u001b[0m\u001b[0;34m)\u001b[0m\u001b[0;34m\u001b[0m\u001b[0;34m\u001b[0m\u001b[0m\n\u001b[0m\u001b[1;32m    277\u001b[0m \u001b[0;34m\u001b[0m\u001b[0m\n\u001b[1;32m    278\u001b[0m         \u001b[0;31m# wrap results\u001b[0m\u001b[0;34m\u001b[0m\u001b[0;34m\u001b[0m\u001b[0;34m\u001b[0m\u001b[0m\n",
      "\u001b[0;32m/Library/Frameworks/Python.framework/Versions/3.8/lib/python3.8/site-packages/pandas/core/apply.py\u001b[0m in \u001b[0;36mapply_series_generator\u001b[0;34m(self)\u001b[0m\n\u001b[1;32m    288\u001b[0m             \u001b[0;32mfor\u001b[0m \u001b[0mi\u001b[0m\u001b[0;34m,\u001b[0m \u001b[0mv\u001b[0m \u001b[0;32min\u001b[0m \u001b[0menumerate\u001b[0m\u001b[0;34m(\u001b[0m\u001b[0mseries_gen\u001b[0m\u001b[0;34m)\u001b[0m\u001b[0;34m:\u001b[0m\u001b[0;34m\u001b[0m\u001b[0;34m\u001b[0m\u001b[0m\n\u001b[1;32m    289\u001b[0m                 \u001b[0;31m# ignore SettingWithCopy here in case the user mutates\u001b[0m\u001b[0;34m\u001b[0m\u001b[0;34m\u001b[0m\u001b[0;34m\u001b[0m\u001b[0m\n\u001b[0;32m--> 290\u001b[0;31m                 \u001b[0mresults\u001b[0m\u001b[0;34m[\u001b[0m\u001b[0mi\u001b[0m\u001b[0;34m]\u001b[0m \u001b[0;34m=\u001b[0m \u001b[0mself\u001b[0m\u001b[0;34m.\u001b[0m\u001b[0mf\u001b[0m\u001b[0;34m(\u001b[0m\u001b[0mv\u001b[0m\u001b[0;34m)\u001b[0m\u001b[0;34m\u001b[0m\u001b[0;34m\u001b[0m\u001b[0m\n\u001b[0m\u001b[1;32m    291\u001b[0m                 \u001b[0;32mif\u001b[0m \u001b[0misinstance\u001b[0m\u001b[0;34m(\u001b[0m\u001b[0mresults\u001b[0m\u001b[0;34m[\u001b[0m\u001b[0mi\u001b[0m\u001b[0;34m]\u001b[0m\u001b[0;34m,\u001b[0m \u001b[0mABCSeries\u001b[0m\u001b[0;34m)\u001b[0m\u001b[0;34m:\u001b[0m\u001b[0;34m\u001b[0m\u001b[0;34m\u001b[0m\u001b[0m\n\u001b[1;32m    292\u001b[0m                     \u001b[0;31m# If we have a view on v, we need to make a copy because\u001b[0m\u001b[0;34m\u001b[0m\u001b[0;34m\u001b[0m\u001b[0;34m\u001b[0m\u001b[0m\n",
      "\u001b[0;31mTypeError\u001b[0m: jaccard_simq() missing 1 required positional argument: 'str2'"
     ]
    }
   ],
   "source": [
    "new_df.apply(jaccard_simq)"
   ]
  },
  {
   "cell_type": "code",
   "execution_count": null,
   "metadata": {},
   "outputs": [],
   "source": []
  }
 ]
}